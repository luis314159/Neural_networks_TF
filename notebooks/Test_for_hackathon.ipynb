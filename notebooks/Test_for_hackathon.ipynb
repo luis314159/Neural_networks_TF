{
  "nbformat": 4,
  "nbformat_minor": 0,
  "metadata": {
    "colab": {
      "provenance": [],
      "authorship_tag": "ABX9TyMxb2grufGmVOHLuT+Qhill",
      "include_colab_link": true
    },
    "kernelspec": {
      "name": "python3",
      "display_name": "Python 3"
    },
    "language_info": {
      "name": "python"
    }
  },
  "cells": [
    {
      "cell_type": "markdown",
      "metadata": {
        "id": "view-in-github",
        "colab_type": "text"
      },
      "source": [
        "<a href=\"https://colab.research.google.com/github/luis314159/Neural_networks_TF/blob/master/notebooks/Test_for_hackathon.ipynb\" target=\"_parent\"><img src=\"https://colab.research.google.com/assets/colab-badge.svg\" alt=\"Open In Colab\"/></a>"
      ]
    },
    {
      "cell_type": "markdown",
      "metadata": {
        "id": "4jE6Z_WgxMk6"
      },
      "source": [
        "\n",
        "<br/>\n",
        "<br/>\n",
        "\n",
        "<html>\n",
        "\n",
        "#**<center>Taller de redes Neuronales con TensorFlow**\n",
        "###**<center > La Salle Chihuahua**\n",
        "\n",
        "</div>\n",
        "\n",
        "<center>\n",
        "\n",
        "##<center>\n",
        "\n",
        "<img src=\"https://upload.wikimedia.org/wikipedia/commons/thumb/a/ab/TensorFlow_logo.svg/640px-TensorFlow_logo.svg.png\" width=\"500\" height=\"350\"/>\n",
        "\n",
        "##<center>\n",
        "##<center>\n",
        "##<center>\n",
        "###<center>Estudiante:\n",
        "###<center>Profesor: Ing. Luis Ángel Almazán López\n",
        "<center>\n",
        "Ninguna pérdida debe sernos más sensible que la del tiempo, puesto que es irreparable.\n",
        "\n",
        "\n",
        "$Zenón \\ de\\ Citio$\n",
        "\n",
        "\n",
        "<!-- badges: start -->\n",
        "[![@luis3.14159](https://img.shields.io/badge/@luis314159-gitHub-darkred?&logoColor=white)](https://github.com/luis314159/)\n",
        "[![Platzi](https://img.shields.io/badge/Platzi_count-luisangelalmaznlpez-green&logoColor=white)](https://platzi.com/p/luisangelalmaznlpez/)\n",
        "![Email](https://img.shields.io/badge/14400@ulsachihuahua.edu.mx-darkblue?&logoColor=white)\n",
        "<!-- badges: end -->\n",
        "\n",
        "\n",
        "\n",
        "<img src=\"https://static.wixstatic.com/media/50abbb_a6b00299fb4c48f5b029e7792a7a6eea~mv2.jpg/v1/crop/x_460,y_0,w_1621,h_1182/fill/w_594,h_462,al_c,q_80,usm_0.66_1.00_0.01,enc_auto/ULSA%20LOGO999999999.jpg\" width=462 />\n",
        "\n",
        "</div>\n",
        "\n",
        "\n"
      ]
    },
    {
      "cell_type": "code",
      "source": [
        "# Cargando código de GitHub del curso\n",
        "!git clone https://github.com/luis314159/Neural_networks_TF\n",
        "\n",
        "# Agregando datos al path (para que el código pueda ser usado fácilmente\n",
        "import sys\n",
        "path_to_add = \"/content/Neural_networks_TF/scripts\"\n",
        "sys.path.append(path_to_add)"
      ],
      "metadata": {
        "id": "d3zgHRw629OA"
      },
      "execution_count": null,
      "outputs": []
    }
  ]
}